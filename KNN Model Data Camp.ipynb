{
 "cells": [
  {
   "cell_type": "code",
   "execution_count": null,
   "metadata": {},
   "outputs": [],
   "source": [
    "# The goal of this model is to create some datasets and use K Nearest Neighbor Machine learning algorothms to classify the imput data \n",
    "# and use accuracy score to identify if the model is predicting accuratly\n",
    "# The GOAL of this model to predict if Weather and temprature has any decision making ability to play or not play"
   ]
  },
  {
   "cell_type": "code",
   "execution_count": 9,
   "metadata": {},
   "outputs": [],
   "source": [
    "# Import libraries for the model\n",
    "\n",
    "import numpy as np\n",
    "import pandas as pd\n",
    "import sklearn\n",
    "from sklearn import datasets, preprocessing\n",
    "import matplotlib.pyplot as plt\n",
    "import seaborn as sns"
   ]
  },
  {
   "cell_type": "code",
   "execution_count": 50,
   "metadata": {},
   "outputs": [],
   "source": [
    "# Bellow we will create some feature and label to create our model and to test that model if this predicting properly\n",
    "\n",
    "# Here we will create to feature weather and tempreture and a label called play\n",
    "\n",
    "# Creating First Feature\n",
    "\n",
    "weather=['Sunny','Sunny','Sunny','Overcast','Rainy','Rainy','OverCast','Sunny','Sunny','Rainy','Sunny','Overcast','Overcast','Rainy']\n",
    "\n",
    "# Creating Second Feature\n",
    "\n",
    "temp=['Hot','Hot','Hot','Mild','Cold','Cold','Cold','Mild','Cold','Mild','Mild','Mild','Hot','Mild']\n",
    "         \n",
    "# Create Label to identify if player will play based onthe above feature we have weather and temperature\n",
    "\n",
    "play=['No','No','Yes','Yes','Yes','No','Yes','No','Yes','Yes','Yes','Yes','Yes','No']"
   ]
  },
  {
   "cell_type": "code",
   "execution_count": 66,
   "metadata": {},
   "outputs": [
    {
     "name": "stdout",
     "output_type": "stream",
     "text": [
      "[3 3 3 1 2 2 0 3 3 2 3 1 1 2]\n",
      "[1 1 1 2 0 0 0 2 0 2 2 2 1 2]\n",
      "[0 0 1 1 1 0 1 0 1 1 1 1 1 0]\n"
     ]
    }
   ],
   "source": [
    "# After createing feature and label we will need to convert those categorial column to numerial column so that Machine Learning Algorith cna understand\n",
    "\n",
    "# To convert categorial data to numeric ,we will need to use Sklearn label encoder class which is part of preprocessing \n",
    "\n",
    "# Bellow creating object from LabelEncoder class\n",
    "\n",
    "le=preprocessing.LabelEncoder()\n",
    "\n",
    "\n",
    "# Coverting string features to numeric . For example : Overcast:1, Rainy:2, Sunny:3\n",
    "\n",
    "weather_encoded=le.fit_transform(weather)\n",
    "\n",
    "print(weather_encoded)\n",
    "\n",
    "# Converting Temp column to numeric \n",
    "\n",
    "temp_encoded=le.fit_transform(temp)\n",
    "\n",
    "print(temp_encoded)\n",
    "\n",
    "\n",
    "# Converting label column to numeric where play:1 and Donot Play:0\n",
    "\n",
    "label=le.fit_transform(play)\n",
    "\n",
    "print(label)\n",
    "\n"
   ]
  },
  {
   "cell_type": "code",
   "execution_count": 67,
   "metadata": {},
   "outputs": [],
   "source": [
    "# Once the columns are converted to numeric data , use zip function to combine both weather and temp column so this works togather to predic if its ok to play or not\n",
    "\n",
    "combined_feature=list(zip(weather_encoded,temp_encoded))"
   ]
  },
  {
   "cell_type": "code",
   "execution_count": 68,
   "metadata": {},
   "outputs": [
    {
     "name": "stdout",
     "output_type": "stream",
     "text": [
      "[(3, 1), (3, 1), (3, 1), (1, 2), (2, 0), (2, 0), (0, 0), (3, 2), (3, 0), (2, 2), (3, 2), (1, 2), (1, 1), (2, 2)]\n"
     ]
    }
   ],
   "source": [
    "print(combined_feature) # As we can see variable from each feature column cteated each set so we can put our imput to predcit"
   ]
  },
  {
   "cell_type": "code",
   "execution_count": 69,
   "metadata": {},
   "outputs": [],
   "source": [
    "# As we discuss , we will be using K Nearest Neighbor algorithm to create our model\n",
    "# Lets import the class from skleran.neighbors library\n",
    "\n",
    "from sklearn.neighbors import KNeighborsClassifier"
   ]
  },
  {
   "cell_type": "code",
   "execution_count": 70,
   "metadata": {},
   "outputs": [],
   "source": [
    "# Once the class is imported ,lets create an object from the class\n",
    "\n",
    "knn=KNeighborsClassifier(n_neighbors=3)"
   ]
  },
  {
   "cell_type": "code",
   "execution_count": 71,
   "metadata": {},
   "outputs": [
    {
     "data": {
      "text/plain": [
       "KNeighborsClassifier(algorithm='auto', leaf_size=30, metric='minkowski',\n",
       "           metric_params=None, n_jobs=1, n_neighbors=3, p=2,\n",
       "           weights='uniform')"
      ]
     },
     "execution_count": 71,
     "metadata": {},
     "output_type": "execute_result"
    }
   ],
   "source": [
    "# Use fit () method to train the model keeping combined feature and lebel inside\n",
    "\n",
    "knn.fit(combined_feature,label)"
   ]
  },
  {
   "cell_type": "code",
   "execution_count": 74,
   "metadata": {},
   "outputs": [
    {
     "name": "stdout",
     "output_type": "stream",
     "text": [
      "[1]\n"
     ]
    }
   ],
   "source": [
    "# Using trained model to predict the input data for future\n",
    "# As we have seen when converting string to numeric data :  Overcast:1, Rainy:2, Sunny:3\n",
    "# Predicting the label AS play:1 and Donot Play:0\n",
    "predict=knn.predict([[1,2]])\n",
    "print(predict)"
   ]
  },
  {
   "cell_type": "code",
   "execution_count": null,
   "metadata": {},
   "outputs": [],
   "source": []
  },
  {
   "cell_type": "code",
   "execution_count": null,
   "metadata": {},
   "outputs": [],
   "source": []
  }
 ],
 "metadata": {
  "kernelspec": {
   "display_name": "Python 3",
   "language": "python",
   "name": "python3"
  },
  "language_info": {
   "codemirror_mode": {
    "name": "ipython",
    "version": 3
   },
   "file_extension": ".py",
   "mimetype": "text/x-python",
   "name": "python",
   "nbconvert_exporter": "python",
   "pygments_lexer": "ipython3",
   "version": "3.6.5"
  }
 },
 "nbformat": 4,
 "nbformat_minor": 2
}
