{
 "cells": [
  {
   "cell_type": "code",
   "execution_count": 1,
   "metadata": {},
   "outputs": [],
   "source": [
    "# This is a social network analysis of Class COMP695_Winter2020.\n",
    "#In our class we have Number of participants: 19 and Dr.Vive is our course Instructor\n",
    "#but for the sake of this example I will take only 8 students to keep it simple\n",
    "#This graph will show the individuals are connected althugh I donot have enough data to prove the theory. \n",
    "#Dr.ViVe is the most influentiaal one where he is connected with everyone in the class. \n",
    "# I will create a dummy relationship between students and naming them alphabetic order A, B, C, D, E, F, G, H and Vive- V\n",
    "\n",
    "# Student A is connected with G in a project where C knows G as well from the class\n",
    "# student B knows E and G from a previous project\n",
    "# student D is planning to do final assignment with A\n",
    "# F decide to do his own project \n",
    "# Vive ( V ) answers any query and provide instruction to everyone.\n",
    "# I willl create a Symmetric Network in relation to Class_2020(COMP695) using python and NetworkX library using jupyter Notebook "
   ]
  },
  {
   "cell_type": "code",
   "execution_count": 3,
   "metadata": {},
   "outputs": [],
   "source": [
    "# import networkx library to create a network between instructor and students using graph () class and Symmetric Relationship\n",
    "import networkx as nx"
   ]
  },
  {
   "cell_type": "code",
   "execution_count": 5,
   "metadata": {},
   "outputs": [],
   "source": [
    "# Create an object from class graph()\n",
    "\n",
    "g_symmetric=nx.Graph()\n"
   ]
  },
  {
   "cell_type": "code",
   "execution_count": 11,
   "metadata": {},
   "outputs": [],
   "source": [
    "# Create the nodes and edges to build relatiosnhip between individuals based on above description\n",
    "\n",
    "g_symmetric.add_edge(\"A\",\"G\")\n",
    "g_symmetric.add_edge(\"C\",\"G\")\n",
    "g_symmetric.add_edge(\"B\",\"E\")\n",
    "#g_symmetric.add_edge(\"B\",\"G\")\n",
    "g_symmetric.add_edge(\"D\",\"A\")\n",
    "g_symmetric.add_edge(\"F\",\"V\")\n",
    "g_symmetric.add_edge(\"V\",\"A\")\n",
    "g_symmetric.add_edge(\"V\",\"B\")\n",
    "g_symmetric.add_edge(\"V\",\"C\")\n",
    "g_symmetric.add_edge(\"V\",\"D\")\n",
    "g_symmetric.add_edge(\"V\",\"E\")\n",
    "g_symmetric.add_edge(\"V\",\"F\")\n",
    "g_symmetric.add_edge(\"V\",\"G\")\n",
    "g_symmetric.add_edge(\"V\",\"H\")\n"
   ]
  },
  {
   "cell_type": "code",
   "execution_count": 14,
   "metadata": {},
   "outputs": [
    {
     "data": {
      "image/png": "[encoded data removed]",
      "text/plain": [
       "<Figure size 432x288 with 1 Axes>"
      ]
     },
     "metadata": {},
     "output_type": "display_data"
    }
   ],
   "source": [
    "# Lets Visualize the network\n",
    "sna_symmetric=nx.draw_networkx(g_symmetric)"
   ]
  },
  {
   "cell_type": "code",
   "execution_count": 15,
   "metadata": {},
   "outputs": [],
   "source": [
    "# Lets check how many degree and node has. Degree is basically how many connections an individual nodes has.\n",
    "# networkx has a function call degree to find that , we will take student G to indentify the connection"
   ]
  },
  {
   "cell_type": "code",
   "execution_count": 18,
   "metadata": {},
   "outputs": [],
   "source": [
    "degree_nodes=nx.degree(g_symmetric, \"G\") # as we can see from above graph student \" G \" has 3 other connection C,V and A"
   ]
  },
  {
   "cell_type": "code",
   "execution_count": 19,
   "metadata": {},
   "outputs": [
    {
     "name": "stdout",
     "output_type": "stream",
     "text": [
      "3\n"
     ]
    }
   ],
   "source": [
    "print(degree_nodes)"
   ]
  },
  {
   "cell_type": "code",
   "execution_count": 17,
   "metadata": {},
   "outputs": [],
   "source": [
    "# find shortest path between nodes , for this example we will use networkx shortest_path function to identify student \"B\" and \"F\""
   ]
  },
  {
   "cell_type": "code",
   "execution_count": 21,
   "metadata": {},
   "outputs": [
    {
     "data": {
      "text/plain": [
       "['B', 'V', 'F']"
      ]
     },
     "execution_count": 21,
     "metadata": {},
     "output_type": "execute_result"
    }
   ],
   "source": [
    "nx.shortest_path(g_symmetric,\"B\",\"F\")"
   ]
  },
  {
   "cell_type": "code",
   "execution_count": 30,
   "metadata": {},
   "outputs": [],
   "source": [
    "# Degree centrality is a measure of the number of connections a particular node has in the network. \n"
   ]
  },
  {
   "cell_type": "code",
   "execution_count": 33,
   "metadata": {},
   "outputs": [],
   "source": [
    "degree_distance=nx.degree_centrality(g_symmetric)"
   ]
  },
  {
   "cell_type": "code",
   "execution_count": 34,
   "metadata": {},
   "outputs": [
    {
     "name": "stdout",
     "output_type": "stream",
     "text": [
      "{'A': 0.375, 'G': 0.375, 'C': 0.25, 'D': 0.25, 'F': 0.125, 'V': 1.0, 'B': 0.25, 'E': 0.25, 'H': 0.125}\n"
     ]
    }
   ],
   "source": [
    "print(degree_distance)"
   ]
  },
  {
   "cell_type": "code",
   "execution_count": null,
   "metadata": {},
   "outputs": [],
   "source": []
  }
 ],
 "metadata": {
  "kernelspec": {
   "display_name": "Python 3",
   "language": "python",
   "name": "python3"
  },
  "language_info": {
   "codemirror_mode": {
    "name": "ipython",
    "version": 3
   },
   "file_extension": ".py",
   "mimetype": "text/x-python",
   "name": "python",
   "nbconvert_exporter": "python",
   "pygments_lexer": "ipython3",
   "version": "3.6.5"
  }
 },
 "nbformat": 4,
 "nbformat_minor": 2
}
