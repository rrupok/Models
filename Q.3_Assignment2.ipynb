{
 "cells": [
  {
   "cell_type": "code",
   "execution_count": null,
   "metadata": {},
   "outputs": [],
   "source": [
    "# Pandas dataframe.corrwith() is used to compute pairwise correlation between rows or columns of two DataFrame objects.\n",
    "# If the shape of two dataframe object is not same then the corresponding correlation value will be a NaN value.\n",
    "# # axis : 0 or ‘index’ to compute column-wise, 1 or ‘columns’ for row-wise"
   ]
  },
  {
   "cell_type": "code",
   "execution_count": 4,
   "metadata": {},
   "outputs": [],
   "source": [
    "import pandas as pd\n",
    "import numpy as np"
   ]
  },
  {
   "cell_type": "code",
   "execution_count": 8,
   "metadata": {},
   "outputs": [],
   "source": [
    "df=pd.DataFrame(np.random.rand(20,5))"
   ]
  },
  {
   "cell_type": "code",
   "execution_count": 9,
   "metadata": {},
   "outputs": [
    {
     "name": "stdout",
     "output_type": "stream",
     "text": [
      "           0         1         2         3         4\n",
      "0   0.066968  0.529875  0.185608  0.267164  0.423143\n",
      "1   0.202085  0.254711  0.203456  0.425943  0.560844\n",
      "2   0.369256  0.939078  0.126152  0.276761  0.366251\n",
      "3   0.141895  0.525452  0.974439  0.095600  0.068794\n",
      "4   0.884191  0.812980  0.734089  0.342316  0.464156\n",
      "5   0.469055  0.940214  0.759494  0.325202  0.591065\n",
      "6   0.823006  0.605756  0.486397  0.875843  0.269691\n",
      "7   0.424183  0.444218  0.793013  0.526226  0.291676\n",
      "8   0.884295  0.259657  0.344278  0.703224  0.469231\n",
      "9   0.808778  0.531545  0.783602  0.261909  0.729679\n",
      "10  0.465577  0.011753  0.530302  0.668800  0.893896\n",
      "11  0.602923  0.138784  0.556395  0.598259  0.977991\n",
      "12  0.583913  0.299742  0.669418  0.954219  0.260676\n",
      "13  0.948305  0.275618  0.548139  0.707996  0.957778\n",
      "14  0.806603  0.115485  0.719321  0.788963  0.189395\n",
      "15  0.478924  0.854158  0.406747  0.776301  0.539093\n",
      "16  0.525330  0.384881  0.926940  0.992140  0.494316\n",
      "17  0.938706  0.628013  0.368061  0.527418  0.279847\n",
      "18  0.776449  0.287154  0.165760  0.245449  0.229152\n",
      "19  0.501357  0.802694  0.611719  0.927345  0.681273\n"
     ]
    }
   ],
   "source": [
    "print(df)"
   ]
  },
  {
   "cell_type": "code",
   "execution_count": 11,
   "metadata": {},
   "outputs": [],
   "source": [
    "df1=pd.DataFrame(np.random.rand(30,5))"
   ]
  },
  {
   "cell_type": "code",
   "execution_count": 12,
   "metadata": {},
   "outputs": [
    {
     "name": "stdout",
     "output_type": "stream",
     "text": [
      "           0         1         2         3         4\n",
      "0   0.729748  0.989022  0.341544  0.437368  0.247023\n",
      "1   0.186166  0.018422  0.862141  0.928878  0.880728\n",
      "2   0.022708  0.259640  0.701548  0.641814  0.094363\n",
      "3   0.842592  0.390173  0.308632  0.710381  0.765028\n",
      "4   0.086593  0.964437  0.738069  0.774829  0.995259\n",
      "5   0.856099  0.763454  0.516767  0.264404  0.552135\n",
      "6   0.695925  0.500314  0.513900  0.498986  0.119506\n",
      "7   0.461462  0.105048  0.470625  0.382614  0.254846\n",
      "8   0.563803  0.541068  0.635238  0.083803  0.603251\n",
      "9   0.595491  0.413248  0.140513  0.964953  0.453490\n",
      "10  0.773308  0.529398  0.167789  0.030223  0.482466\n",
      "11  0.823612  0.230616  0.053381  0.117364  0.504005\n",
      "12  0.901413  0.279225  0.006060  0.304631  0.382024\n",
      "13  0.050467  0.132244  0.160664  0.679668  0.028329\n",
      "14  0.300576  0.194306  0.156142  0.167992  0.180101\n",
      "15  0.875108  0.165084  0.533293  0.422029  0.293177\n",
      "16  0.194821  0.714587  0.548328  0.676763  0.037706\n",
      "17  0.038295  0.632469  0.449647  0.341648  0.684664\n",
      "18  0.128729  0.342178  0.148834  0.612531  0.440817\n",
      "19  0.592064  0.641521  0.256036  0.913700  0.328628\n",
      "20  0.986539  0.775083  0.117007  0.146871  0.966848\n",
      "21  0.496965  0.462382  0.717751  0.073077  0.663674\n",
      "22  0.009734  0.843481  0.655444  0.111778  0.624678\n",
      "23  0.661913  0.899311  0.312486  0.196205  0.150678\n",
      "24  0.023923  0.729717  0.417073  0.586494  0.706863\n",
      "25  0.405849  0.322065  0.323768  0.184958  0.930237\n",
      "26  0.211614  0.437552  0.209023  0.642007  0.828311\n",
      "27  0.792989  0.937835  0.669095  0.925189  0.052398\n",
      "28  0.854666  0.768075  0.507877  0.759075  0.785389\n",
      "29  0.654994  0.673184  0.087252  0.442372  0.598676\n"
     ]
    }
   ],
   "source": [
    "print(df1)"
   ]
  },
  {
   "cell_type": "code",
   "execution_count": 17,
   "metadata": {},
   "outputs": [],
   "source": [
    "# to find the corelation between df and df1\n",
    "#correlation among the columns of the two data frame along the row axis."
   ]
  },
  {
   "cell_type": "code",
   "execution_count": 19,
   "metadata": {},
   "outputs": [],
   "source": [
    "corelation_row=df.corrwith(df1, axis=0)"
   ]
  },
  {
   "cell_type": "code",
   "execution_count": 20,
   "metadata": {},
   "outputs": [
    {
     "name": "stdout",
     "output_type": "stream",
     "text": [
      "0   -0.372513\n",
      "1    0.366980\n",
      "2   -0.242127\n",
      "3   -0.257911\n",
      "4   -0.060703\n",
      "dtype: float64\n"
     ]
    }
   ],
   "source": [
    "print(corelation_row)"
   ]
  },
  {
   "cell_type": "code",
   "execution_count": 21,
   "metadata": {},
   "outputs": [],
   "source": [
    "#correlation among two dataframe objects along the column axis"
   ]
  },
  {
   "cell_type": "code",
   "execution_count": 22,
   "metadata": {},
   "outputs": [],
   "source": [
    "corelation_col=df.corrwith(df1, axis=1)"
   ]
  },
  {
   "cell_type": "code",
   "execution_count": 24,
   "metadata": {},
   "outputs": [
    {
     "name": "stdout",
     "output_type": "stream",
     "text": [
      "0     0.218361\n",
      "1     0.577427\n",
      "2    -0.419784\n",
      "3    -0.926089\n",
      "4    -0.510893\n",
      "5     0.458738\n",
      "6     0.809799\n",
      "7     0.528064\n",
      "8    -0.390891\n",
      "9    -0.741115\n",
      "10   -0.291559\n",
      "11    0.336775\n",
      "12   -0.087749\n",
      "13   -0.136823\n",
      "14    0.256479\n",
      "15   -0.645025\n",
      "16    0.396541\n",
      "17   -0.778760\n",
      "18   -0.476604\n",
      "19    0.652515\n",
      "20    0.000000\n",
      "21    0.000000\n",
      "22    0.000000\n",
      "23    0.000000\n",
      "24    0.000000\n",
      "25    0.000000\n",
      "26    0.000000\n",
      "27    0.000000\n",
      "28    0.000000\n",
      "29    0.000000\n",
      "dtype: float64\n"
     ]
    }
   ],
   "source": [
    "print(corelation_col.fillna(0))"
   ]
  },
  {
   "cell_type": "code",
   "execution_count": null,
   "metadata": {},
   "outputs": [],
   "source": []
  }
 ],
 "metadata": {
  "kernelspec": {
   "display_name": "Python 3",
   "language": "python",
   "name": "python3"
  },
  "language_info": {
   "codemirror_mode": {
    "name": "ipython",
    "version": 3
   },
   "file_extension": ".py",
   "mimetype": "text/x-python",
   "name": "python",
   "nbconvert_exporter": "python",
   "pygments_lexer": "ipython3",
   "version": "3.6.5"
  }
 },
 "nbformat": 4,
 "nbformat_minor": 2
}
