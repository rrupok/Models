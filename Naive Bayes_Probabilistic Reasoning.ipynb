{
 "cells": [
  {
   "cell_type": "code",
   "execution_count": 399,
   "metadata": {},
   "outputs": [],
   "source": [
    "#!/bin/python3\n",
    "#Following example we will use Bayes Theorem in relation to probability and its percent (0 ≤ rain ≤ 1 ) with the rain\n",
    "#and will predict the weather which might impact the likelihood of playing tennis. "
   ]
  },
  {
   "cell_type": "code",
   "execution_count": 400,
   "metadata": {},
   "outputs": [],
   "source": [
    "#Importing Python libraries Pandas and Numpy"
   ]
  },
  {
   "cell_type": "code",
   "execution_count": 401,
   "metadata": {},
   "outputs": [],
   "source": [
    "import pandas as pd\n",
    "import numpy as np"
   ]
  },
  {
   "cell_type": "code",
   "execution_count": 402,
   "metadata": {},
   "outputs": [],
   "source": [
    "#checking location of the local directroy of this programming path"
   ]
  },
  {
   "cell_type": "code",
   "execution_count": 403,
   "metadata": {},
   "outputs": [
    {
     "data": {
      "text/plain": [
       "'C:\\\\Users\\\\RussellRupok\\\\COMP657-Artificial Intelligence\\\\TMA1'"
      ]
     },
     "execution_count": 403,
     "metadata": {},
     "output_type": "execute_result"
    }
   ],
   "source": [
    "pwd"
   ]
  },
  {
   "cell_type": "code",
   "execution_count": 404,
   "metadata": {},
   "outputs": [],
   "source": [
    "# Createing dictonary of columns( outlook, temp,humidity ,wind and play) with values "
   ]
  },
  {
   "cell_type": "code",
   "execution_count": 405,
   "metadata": {},
   "outputs": [],
   "source": [
    "dic={'outlook':[\"sunny\",\"sunny\",\"overcast\",\"rainy\",\"rainy\",\"rainy\",\"overcast\",\"sunny\",\"sunny\",\"rainy\",\"sunny\",\"overcast\",\"overcast\",\"rainy\",\"overcast\",\"sunny\",\"sunny\",\"rainy\",\"sunny\",\"overcast\"],\n",
    "         'temp': [\"hot\",\"hot\",\"hot\",\"mild\",\"cool\",\"cool\",\"cool\",\"mild\",\"cool\",\"mild\",\"mild\",\"mild\",\"hot\",\"mild\",\"cool\",\"cool\",\"cool\",\"mild\",\"cool\",\"mild\"],\n",
    "         'humidity':[\"high\",\"high\",\"high\",\"high\",\"normal\",\"normal\",\"normal\",\"high\",\"normal\",\"normal\",\"normal\",\"high\",\"normal\",\"high\",\"high\",\"high\",\"normal\",\"normal\",\"normal\",\"high\"],\n",
    "         'windy':[\"FALSE\",\"TRUE\",\"FALSE\",\"FALSE\",\"FALSE\",\"TRUE\",\"TRUE\",\"FALSE\",\"FALSE\",\"FALSE\",\"TRUE\",\"TRUE\",\"FALSE\",\"TRUE\",\"TRUE\",\"FALSE\",\"FALSE\",\"FALSE\",\"TRUE\",\"TRUE\"],\n",
    "          'play':[\"no\",\"no\",\"yes\",\"yes\",\"yes\",\"no\",\"yes\",\"no\",\"yes\",\"yes\",\"yes\",\"yes\",\"yes\",\"no\",\"yes\",\"yes\",\"yes\",\"no\",\"yes\",\"no\"]\n",
    "       }\n",
    "       "
   ]
  },
  {
   "cell_type": "code",
   "execution_count": 406,
   "metadata": {},
   "outputs": [],
   "source": [
    "#Creating dataframe using pandas"
   ]
  },
  {
   "cell_type": "code",
   "execution_count": 407,
   "metadata": {},
   "outputs": [],
   "source": [
    "Tennis=pd.DataFrame(dic)"
   ]
  },
  {
   "cell_type": "code",
   "execution_count": 408,
   "metadata": {},
   "outputs": [],
   "source": [
    "#printing pandas dictionary as panadas dataframe in rows and columns "
   ]
  },
  {
   "cell_type": "code",
   "execution_count": 409,
   "metadata": {},
   "outputs": [
    {
     "name": "stdout",
     "output_type": "stream",
     "text": [
      "     outlook  temp humidity  windy play\n",
      "0      sunny   hot     high  FALSE   no\n",
      "1      sunny   hot     high   TRUE   no\n",
      "2   overcast   hot     high  FALSE  yes\n",
      "3      rainy  mild     high  FALSE  yes\n",
      "4      rainy  cool   normal  FALSE  yes\n",
      "5      rainy  cool   normal   TRUE   no\n",
      "6   overcast  cool   normal   TRUE  yes\n",
      "7      sunny  mild     high  FALSE   no\n",
      "8      sunny  cool   normal  FALSE  yes\n",
      "9      rainy  mild   normal  FALSE  yes\n",
      "10     sunny  mild   normal   TRUE  yes\n",
      "11  overcast  mild     high   TRUE  yes\n",
      "12  overcast   hot   normal  FALSE  yes\n",
      "13     rainy  mild     high   TRUE   no\n",
      "14  overcast  cool     high   TRUE  yes\n",
      "15     sunny  cool     high  FALSE  yes\n",
      "16     sunny  cool   normal  FALSE  yes\n",
      "17     rainy  mild   normal  FALSE   no\n",
      "18     sunny  cool   normal   TRUE  yes\n",
      "19  overcast  mild     high   TRUE   no\n"
     ]
    }
   ],
   "source": [
    "print(Tennis)"
   ]
  },
  {
   "cell_type": "code",
   "execution_count": 410,
   "metadata": {},
   "outputs": [],
   "source": [
    "#using panadas groupby method to merge comlums togather "
   ]
  },
  {
   "cell_type": "code",
   "execution_count": 411,
   "metadata": {
    "scrolled": true
   },
   "outputs": [],
   "source": [
    "outlook = Tennis.groupby(['outlook', 'play']).size()\n",
    "temp = Tennis.groupby(['temp', 'play']).size()\n",
    "humidity = Tennis.groupby(['humidity', 'play']).size()\n",
    "windy = Tennis.groupby(['windy', 'play']).size()\n"
   ]
  },
  {
   "cell_type": "code",
   "execution_count": 412,
   "metadata": {},
   "outputs": [],
   "source": [
    "play = Tennis.play.value_counts()"
   ]
  },
  {
   "cell_type": "code",
   "execution_count": 413,
   "metadata": {},
   "outputs": [],
   "source": [
    "#printing response  and datatype"
   ]
  },
  {
   "cell_type": "code",
   "execution_count": 414,
   "metadata": {},
   "outputs": [
    {
     "name": "stdout",
     "output_type": "stream",
     "text": [
      "yes    13\n",
      "no      7\n",
      "Name: play, dtype: int64\n"
     ]
    }
   ],
   "source": [
    "print(play)\n"
   ]
  },
  {
   "cell_type": "code",
   "execution_count": 415,
   "metadata": {},
   "outputs": [
    {
     "name": "stdout",
     "output_type": "stream",
     "text": [
      "outlook   play\n",
      "overcast  no      1\n",
      "          yes     5\n",
      "rainy     no      3\n",
      "          yes     3\n",
      "sunny     no      3\n",
      "          yes     5\n",
      "dtype: int64\n"
     ]
    }
   ],
   "source": [
    "print(outlook)\n"
   ]
  },
  {
   "cell_type": "code",
   "execution_count": 416,
   "metadata": {},
   "outputs": [
    {
     "name": "stdout",
     "output_type": "stream",
     "text": [
      "temp  play\n",
      "cool  no      1\n",
      "      yes     7\n",
      "hot   no      2\n",
      "      yes     2\n",
      "mild  no      4\n",
      "      yes     4\n",
      "dtype: int64\n"
     ]
    }
   ],
   "source": [
    "print(temp)"
   ]
  },
  {
   "cell_type": "code",
   "execution_count": 417,
   "metadata": {},
   "outputs": [
    {
     "name": "stdout",
     "output_type": "stream",
     "text": [
      "humidity  play\n",
      "high      no      5\n",
      "          yes     5\n",
      "normal    no      2\n",
      "          yes     8\n",
      "dtype: int64\n"
     ]
    }
   ],
   "source": [
    "print(humidity)"
   ]
  },
  {
   "cell_type": "code",
   "execution_count": 418,
   "metadata": {},
   "outputs": [
    {
     "name": "stdout",
     "output_type": "stream",
     "text": [
      "windy  play\n",
      "FALSE  no      3\n",
      "       yes     8\n",
      "TRUE   no      4\n",
      "       yes     5\n",
      "dtype: int64\n"
     ]
    }
   ],
   "source": [
    "print(windy)"
   ]
  },
  {
   "cell_type": "code",
   "execution_count": 419,
   "metadata": {},
   "outputs": [
    {
     "name": "stdout",
     "output_type": "stream",
     "text": [
      "yes    13\n",
      "no      7\n",
      "Name: play, dtype: int64\n"
     ]
    }
   ],
   "source": [
    "print(play)"
   ]
  },
  {
   "cell_type": "code",
   "execution_count": 420,
   "metadata": {},
   "outputs": [],
   "source": [
    "#Bellow two cells describe what is probability and how Bayes' Theoram works in relation to an uncertainaty with percentage of possibility"
   ]
  },
  {
   "cell_type": "code",
   "execution_count": 421,
   "metadata": {},
   "outputs": [],
   "source": [
    "#Calculating manually the possibility of playing tennis while raining"
   ]
  },
  {
   "cell_type": "markdown",
   "metadata": {},
   "source": [
    "# So what is the probability of playing tennis if it is rainy?\n",
    "\n",
    "P(rain|play=yes)\n",
    "frequency of (outlook=rainy) when (play=yes) / frequency of (play=yes) = 3/13\n",
    "P(play=yes)\n",
    "frequency of (play=yes) / total(play) = 13/20\n",
    "P(outlook=rainy)\n",
    "frequency of (outlook=rainy) / total(outlook) = 6/20\n",
    "Equation (3/13)*(13/20)/(6/20)=0.50\n",
    "\n",
    "The probability of playing tennis when it is raining is 50%. \n",
    "Once you obtain the frequencies for each category , the whole process become easy. \n",
    "Bellow code will provide more explaning how this can be done in python and using methods"
   ]
  },
  {
   "cell_type": "markdown",
   "metadata": {},
   "source": [
    "# Explanation of Bayes' Theoram and Equation"
   ]
  },
  {
   "cell_type": "code",
   "execution_count": 298,
   "metadata": {},
   "outputs": [
    {
     "data": {
      "text/plain": [
       "'\\nEquation of Posterior, Prior ,Likelihood and Evidence explanation and create methods in python.\\n\\nBasis of all Baysenian Statistics is Bayes Theoram. This gives a away of CALCULATING Posterior Probability\\n\\nFormula : P(x∣c)=P(c∣x)P(c)/P(x)\\n\\nBellow describes each of the equation \\nPosterior = Prior * Likelihood (post or after the observation on an object, we know this is something)\\nPrior: Probability of an event before new data is collected\\nLikelihood: Chance of probability something will happen\\nEvidence: Proven record of something happend\\n\\n'"
      ]
     },
     "execution_count": 298,
     "metadata": {},
     "output_type": "execute_result"
    }
   ],
   "source": [
    "\"\"\"\n",
    "Equation of Posterior, Prior ,Likelihood and Evidence explanation and create methods in python.\n",
    "\n",
    "Basis of all Baysenian Statistics is Bayes Theoram. This gives a away of CALCULATING Posterior Probability\n",
    "\n",
    "Formula : P(x∣c)=P(c∣x)P(c)/P(x)\n",
    "\n",
    "Bellow describes each of the equation \n",
    "Posterior = Prior * Likelihood (post or after the observation on an object, we know this is something)\n",
    "Prior: Probability of an event before new data is collected\n",
    "Likelihood: Chance of probability something will happen\n",
    "Evidence: Proven record of something happend\n",
    "\n",
    "\"\"\""
   ]
  },
  {
   "cell_type": "code",
   "execution_count": 299,
   "metadata": {},
   "outputs": [],
   "source": [
    "# If we want to symbolize using a functions \n",
    "# def bayestheorem():\n",
    "#     print('Evidence [P(x)] - Prior probability of the predictor (x))'),\n",
    "    \n",
    "#     print('Prior [P(c)] - Prior probability of the class (target)'),\n",
    "    \n",
    "#     print('Posterior [P(c|x)] - Posterior probability of the target/class (c) given predictors (x)'),\n",
    "    \n",
    "#     print('Likelihood [P(x|c)] - Probability of the predictor (x) given the class/target (c)')\n",
    "    "
   ]
  },
  {
   "cell_type": "code",
   "execution_count": 300,
   "metadata": {},
   "outputs": [],
   "source": [
    "#pandas.crosstab :Compute a simple cross tabulation of two (or more) factors"
   ]
  },
  {
   "cell_type": "code",
   "execution_count": 301,
   "metadata": {},
   "outputs": [
    {
     "name": "stdout",
     "output_type": "stream",
     "text": [
      "play      no  yes  All\n",
      "outlook               \n",
      "overcast   1    5    6\n",
      "rainy      3    3    6\n",
      "sunny      3    5    8\n",
      "All        7   13   20\n"
     ]
    }
   ],
   "source": [
    "contingency_tables= pd.crosstab(Tennis['outlook'], Tennis['play'], margins = True) \n",
    "print(contingency_tables)"
   ]
  },
  {
   "cell_type": "code",
   "execution_count": 380,
   "metadata": {},
   "outputs": [
    {
     "data": {
      "text/html": [
       "<div>\n",
       "<style scoped>\n",
       "    .dataframe tbody tr th:only-of-type {\n",
       "        vertical-align: middle;\n",
       "    }\n",
       "\n",
       "    .dataframe tbody tr th {\n",
       "        vertical-align: top;\n",
       "    }\n",
       "\n",
       "    .dataframe thead th {\n",
       "        text-align: right;\n",
       "    }\n",
       "</style>\n",
       "<table border=\"1\" class=\"dataframe\">\n",
       "  <thead>\n",
       "    <tr style=\"text-align: right;\">\n",
       "      <th></th>\n",
       "      <th>no</th>\n",
       "      <th>yes</th>\n",
       "      <th>ROWTOTAL</th>\n",
       "    </tr>\n",
       "  </thead>\n",
       "  <tbody>\n",
       "    <tr>\n",
       "      <td>overcast</td>\n",
       "      <td>0.05</td>\n",
       "      <td>0.25</td>\n",
       "      <td>0.3</td>\n",
       "    </tr>\n",
       "    <tr>\n",
       "      <td>rainy</td>\n",
       "      <td>0.15</td>\n",
       "      <td>0.15</td>\n",
       "      <td>0.3</td>\n",
       "    </tr>\n",
       "    <tr>\n",
       "      <td>sunny</td>\n",
       "      <td>0.15</td>\n",
       "      <td>0.25</td>\n",
       "      <td>0.4</td>\n",
       "    </tr>\n",
       "    <tr>\n",
       "      <td>coltotal</td>\n",
       "      <td>0.35</td>\n",
       "      <td>0.65</td>\n",
       "      <td>1.0</td>\n",
       "    </tr>\n",
       "  </tbody>\n",
       "</table>\n",
       "</div>"
      ],
      "text/plain": [
       "            no   yes  ROWTOTAL\n",
       "overcast  0.05  0.25       0.3\n",
       "rainy     0.15  0.15       0.3\n",
       "sunny     0.15  0.25       0.4\n",
       "coltotal  0.35  0.65       1.0"
      ]
     },
     "execution_count": 380,
     "metadata": {},
     "output_type": "execute_result"
    }
   ],
   "source": [
    "contingency_tables.columns = [\"no\",\"yes\",\"ROWTOTAL\"]\n",
    "contingency_tables.index= [\"overcast\",\"rainy\",\"sunny\",\"coltotal\"]\n",
    "contingency_tables / contingency_tables.loc[\"coltotal\",\"ROWTOTAL\"]"
   ]
  },
  {
   "cell_type": "code",
   "execution_count": null,
   "metadata": {},
   "outputs": [],
   "source": []
  },
  {
   "cell_type": "code",
   "execution_count": 397,
   "metadata": {},
   "outputs": [],
   "source": [
    "def BayesPosterior():\n",
    "    Prior=contingency_tables.iloc[1,1]/contingency_tables.iloc[3,1]\n",
    "    Likelihood=contingency_tables.iloc[3,1]/contingency_tables.iloc[3,2]\n",
    "    Evidence=contingency_tables.iloc[1,2]/contingency_tables.iloc[3,2]\n",
    "    PosteriorProbability=format((Prior*Likelihood)/Evidence,\".2%\")\n",
    "    \n",
    "    print(\"Prior probability of the class (target)=\",Prior)\n",
    "    print(\"Probability of the predictor given the class/target= \",Likelihood)\n",
    "    print(\"Prior probability of the predictor =\",Evidence)\n",
    "    \n",
    "    #Equation of Posterior Probabiliy= (Prior*Likelihood)/Evidence\n",
    "    \n",
    "    print(\"Probability of Tennis given Rain =\",PosteriorProbability)\n"
   ]
  },
  {
   "cell_type": "code",
   "execution_count": 398,
   "metadata": {},
   "outputs": [
    {
     "name": "stdout",
     "output_type": "stream",
     "text": [
      "Prior probability of the class (target)= 0.23076923076923078\n",
      "Probability of the predictor given the class/target=  0.65\n",
      "Prior probability of the predictor = 0.3\n",
      "Probability of Tennis given Rain = 50.00%\n",
      "None\n"
     ]
    }
   ],
   "source": [
    "print(BayesPosterior())"
   ]
  },
  {
   "cell_type": "code",
   "execution_count": null,
   "metadata": {},
   "outputs": [],
   "source": []
  }
 ],
 "metadata": {
  "kernelspec": {
   "display_name": "Python 3",
   "language": "python",
   "name": "python3"
  },
  "language_info": {
   "codemirror_mode": {
    "name": "ipython",
    "version": 3
   },
   "file_extension": ".py",
   "mimetype": "text/x-python",
   "name": "python",
   "nbconvert_exporter": "python",
   "pygments_lexer": "ipython3",
   "version": "3.7.4"
  }
 },
 "nbformat": 4,
 "nbformat_minor": 2
}
